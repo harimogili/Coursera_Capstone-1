{
 "cells": [
  {
   "cell_type": "markdown",
   "metadata": {},
   "source": [
    "# **Final Capstone Project**\n",
    "## Background:\n",
    "I am an Indian residing with my family in the city of **Franklin, WI**  for the past 12 years. Though, there is a sizable Indian population resising in and around Milwaukee (the largest city in Wisconsin), \n",
    "and many businesses that employ Indians, I believe that there are not many good Indian restaurants that I would like to go with my family or friends who are visiting Milwaukee. \n",
    "My husband and I have always dreamed of opening an Indian restaurant ourselves to satisfy the Indian community and also people who love authentic Indian Cuisine(Indian Cuisine is getting pretty popular among many ethnic groups). Opening a brand new restaurant is not a joke and definitely depends on many factors. While I was doing research on the factors to consider before opening a restaurant, **good location** is almost always among the top.\n",
    "\n",
    "_Web Reference: https://www.business.com/articles/7-things-to-consider-restaurant/_ \n",
    "\n",
    "No matter how good the food and the service are, if there is not enough visibility, parking and traffic to increase customer base, then the restaurant is doomed to die within a few years, unable to make profit. \n",
    "So, in this capstone project I am trying to find a good location to open my dream Indian restaurant. \n",
    "Hopefully, this process might probably motivate us to take the risk in fulfilling this dream idea.\n",
    "\n",
    "## Problem Definition:\n",
    "So, the problem question that I am trying to solve using Foursquare location data and my learnings thus far in this course, is to do the required data analysis and determine <br>\n",
    "**\"What is the best location to open my dream \"Indian restaurant\" in/around Milwaukee, WI?\"**\n",
    "\n",
    "## Data Required:\n",
    "\n",
    "I think the following data will help me determine the best location for my restaurant.\n",
    "1. Do some web scraping from the website mentioned below and gather some demographic information about Indian population in Wisconsin, especially in and around Franklin city, WI.<br>\n",
    "\t_Web Reference :http://zipatlas.com/us/wi/city-comparison/percentage-indian-population.htm_\n",
    "2. Competitor Analysis: Use Foursquare Location data to collect data related to existing Indian restaurants in the locations of interest.\n",
    "\tGather information related to existing Indian restaurants in Milwaukee and analyze their ratings and locations.\n",
    "3. Clean and analyze required data from both these sources.\n",
    "4. Use clustering algorithm to determine top 3 locations to open my dream Indian restaurant.\n"
   ]
  },
  {
   "cell_type": "code",
   "execution_count": null,
   "metadata": {},
   "outputs": [],
   "source": []
  }
 ],
 "metadata": {
  "kernelspec": {
   "display_name": "Python 3",
   "language": "python",
   "name": "python3"
  },
  "language_info": {
   "codemirror_mode": {
    "name": "ipython",
    "version": 3
   },
   "file_extension": ".py",
   "mimetype": "text/x-python",
   "name": "python",
   "nbconvert_exporter": "python",
   "pygments_lexer": "ipython3",
   "version": "3.6.5"
  }
 },
 "nbformat": 4,
 "nbformat_minor": 2
}
